{
  "cells": [
    {
      "cell_type": "code",
      "execution_count": null,
      "metadata": {
        "id": "2eSvM9zX_2d3"
      },
      "outputs": [],
      "source": [
        "%%capture\n",
        "!pip install unsloth\n",
        "# Also get the latest nightly Unsloth!\n",
        "!pip uninstall unsloth -y && pip install --upgrade --no-cache-dir --no-deps git+https://github.com/unslothai/unsloth.git"
      ]
    },
    {
      "cell_type": "code",
      "execution_count": null,
      "metadata": {
        "id": "QmUBVEnvCDJv"
      },
      "outputs": [],
      "source": [
        "from unsloth import FastLanguageModel\n",
        "import torch\n",
        "import os\n",
        "\n",
        "hf_token = os.environ.get('HF_TOKEN')\n",
        "anthropic_api_key = os.environ.get('ANTHROPIC_API_KEY')\n",
        "\n",
        "max_seq_length = 2048 # Choose any! We auto support RoPE Scaling internally!\n",
        "dtype = None # None for auto detection. Float16 for Tesla T4, V100, Bfloat16 for Ampere+\n",
        "load_in_4bit = False # Use 4bit quantization to reduce memory usage. Can be False.\n",
        "model, tokenizer = FastLanguageModel.from_pretrained(\n",
        "    model_name = \"unsloth/Qwen2.5-Coder-7B\",\n",
        "    max_seq_length = max_seq_length,\n",
        "    dtype = dtype,\n",
        "    load_in_4bit = load_in_4bit,\n",
        ")"
      ]
    },
    {
      "cell_type": "code",
      "execution_count": null,
      "metadata": {
        "id": "6bZsfBuZDeCL"
      },
      "outputs": [],
      "source": [
        "rank = 256\n",
        "alpha = rank\n",
        "model = FastLanguageModel.get_peft_model(\n",
        "    model,\n",
        "    r = rank, # Choose any number > 0 ! Suggested 8, 16, 32, 64, 128\n",
        "    target_modules = [\"q_proj\", \"k_proj\", \"v_proj\", \"o_proj\",\n",
        "                      \"gate_proj\", \"up_proj\", \"down_proj\"],\n",
        "    lora_alpha = alpha,\n",
        "    lora_dropout = 0, # Supports any, but = 0 is optimized\n",
        "    bias = \"none\",    # Supports any, but = \"none\" is optimized\n",
        "    # [NEW] \"unsloth\" uses 30% less VRAM, fits 2x larger batch sizes!\n",
        "    use_gradient_checkpointing = \"unsloth\", # True or \"unsloth\" for very long context\n",
        "    random_state = 3407,\n",
        "    use_rslora = False,  # We support rank stabilized LoRA\n",
        "    loftq_config = None, # And LoftQ\n",
        ")"
      ]
    },
    {
      "cell_type": "code",
      "execution_count": null,
      "metadata": {
        "id": "LjY75GoYUCB8"
      },
      "outputs": [],
      "source": [
        "alpaca_prompt = \"\"\"### Instruction:\n",
        "You are a code completion assistant and your task is to analyze user edits and then rewrite an excerpt that the user provides, suggesting the appropriate edits within the excerpt, taking into account the cursor location.\n",
        "\n",
        "### User Edits:\n",
        "\n",
        "{}\n",
        "\n",
        "### User Excerpt:\n",
        "\n",
        "{}\n",
        "\n",
        "### Response:\n",
        "\n",
        "{}\n",
        "\"\"\"\n",
        "\n",
        "EOS_TOKEN = tokenizer.eos_token # Must add EOS_TOKEN\n",
        "original_start_marker = \"<|editable_region_start|>\"\n",
        "original_end_marker = \"<|editable_region_end|>\"\n",
        "\n",
        "def format_example(events, input, output):\n",
        "    return alpaca_prompt.format(events, input, output)\n",
        "\n",
        "def formatting_prompts_func(examples):\n",
        "    events       = examples[\"events\"]\n",
        "    inputs       = examples[\"input\"]\n",
        "    outputs      = examples[\"output\"]\n",
        "    texts = []\n",
        "    for events, input, output in zip(events, inputs, outputs):\n",
        "        output_start_index = output.find(original_start_marker)\n",
        "        output_focused_region = output[output_start_index:]\n",
        "        output = output_focused_region\n",
        "\n",
        "        # Must add EOS_TOKEN, otherwise your generation will go on forever!\n",
        "        text = format_example(events, input, output) + EOS_TOKEN\n",
        "        texts.append(text)\n",
        "    return { \"text\" : texts, }\n",
        "pass\n",
        "\n",
        "def filter_long_sequences(examples):\n",
        "    tokenized = tokenizer(examples[\"text\"])\n",
        "    return len(tokenized['input_ids']) <= 1500\n",
        "\n",
        "from datasets import load_dataset\n",
        "\n",
        "# Pinned commit: 5920488, num_steps = 60, ratio = 2e-4, batch=8, rank=256, alpha=256\n",
        "revision = \"5920488\"\n",
        "dataset = load_dataset(\"zed-industries/zeta\", token = hf_token, revision = revision)\n",
        "dataset = dataset.map(formatting_prompts_func, batched = True,)\n",
        "train_dataset = dataset[\"train\"].filter(filter_long_sequences)\n",
        "eval_dataset = dataset[\"eval\"]\n",
        "\n",
        "print(\"train len\", len(train_dataset))\n",
        "print(\"eval len\", len(eval_dataset))\n",
        "\n",
        "print(train_dataset[313][\"text\"])"
      ]
    },
    {
      "cell_type": "code",
      "execution_count": null,
      "metadata": {
        "id": "95_Nn-89DhsL"
      },
      "outputs": [],
      "source": [
        "from trl import SFTTrainer, DataCollatorForCompletionOnlyLM\n",
        "from transformers import TrainingArguments\n",
        "from unsloth import is_bfloat16_supported\n",
        "\n",
        "response_template = \"### Response:\\n\\n\"\n",
        "collator = DataCollatorForCompletionOnlyLM(response_template, tokenizer=tokenizer)\n",
        "num_train_epochs = 2\n",
        "\n",
        "trainer = SFTTrainer(\n",
        "    model = model,\n",
        "    tokenizer = tokenizer,\n",
        "    train_dataset = train_dataset,\n",
        "    eval_dataset = eval_dataset,\n",
        "    dataset_text_field = \"text\",\n",
        "    max_seq_length = max_seq_length,\n",
        "    dataset_num_proc = 2,\n",
        "    packing = False, # Can make training 5x faster for short sequences.\n",
        "    data_collator = collator,\n",
        "        args = TrainingArguments(\n",
        "        per_device_train_batch_size = 8,\n",
        "        gradient_accumulation_steps = 1,\n",
        "        max_steps = 60,\n",
        "        learning_rate = 2e-4,\n",
        "        fp16 = not is_bfloat16_supported(),\n",
        "        bf16 = is_bfloat16_supported(),\n",
        "        logging_steps = 1,\n",
        "        optim = \"adamw_8bit\",\n",
        "        weight_decay = 0.01,\n",
        "        lr_scheduler_type = \"linear\",\n",
        "        seed = 3407,\n",
        "        output_dir = \"outputs\",\n",
        "        report_to = \"none\", # Use this for WandB etc\n",
        "        eval_steps = 5,\n",
        "        eval_strategy = \"steps\",\n",
        "        do_eval = True,\n",
        "    ),\n",
        ")"
      ]
    },
    {
      "cell_type": "code",
      "execution_count": null,
      "metadata": {
        "cellView": "form",
        "id": "2ejIt2xSNKKp"
      },
      "outputs": [],
      "source": [
        "#@title Show current memory stats\n",
        "gpu_stats = torch.cuda.get_device_properties(0)\n",
        "start_gpu_memory = round(torch.cuda.max_memory_reserved() / 1024 / 1024 / 1024, 3)\n",
        "max_memory = round(gpu_stats.total_memory / 1024 / 1024 / 1024, 3)\n",
        "print(f\"GPU = {gpu_stats.name}. Max memory = {max_memory} GB.\")\n",
        "print(f\"{start_gpu_memory} GB of memory reserved.\")"
      ]
    },
    {
      "cell_type": "code",
      "execution_count": null,
      "metadata": {
        "id": "yqxqAZ7KJ4oL"
      },
      "outputs": [],
      "source": [
        "trainer_stats = trainer.train()"
      ]
    },
    {
      "cell_type": "code",
      "execution_count": null,
      "metadata": {
        "id": "pCqnaKmlO1U9"
      },
      "outputs": [],
      "source": [
        "#@title Show final memory and time stats\n",
        "used_memory = round(torch.cuda.max_memory_reserved() / 1024 / 1024 / 1024, 3)\n",
        "used_memory_for_lora = round(used_memory - start_gpu_memory, 3)\n",
        "used_percentage = round(used_memory         /max_memory*100, 3)\n",
        "lora_percentage = round(used_memory_for_lora/max_memory*100, 3)\n",
        "print(f\"{trainer_stats.metrics['train_runtime']} seconds used for training.\")\n",
        "print(f\"{round(trainer_stats.metrics['train_runtime']/60, 2)} minutes used for training.\")\n",
        "print(f\"Peak reserved memory = {used_memory} GB.\")\n",
        "print(f\"Peak reserved memory for training = {used_memory_for_lora} GB.\")\n",
        "print(f\"Peak reserved memory % of max memory = {used_percentage} %.\")\n",
        "print(f\"Peak reserved memory for training % of max memory = {lora_percentage} %.\")"
      ]
    },
    {
      "cell_type": "markdown",
      "metadata": {
        "id": "ekOmTR1hSNcr"
      },
      "source": [
        "<a name=\"Inference\"></a>\n",
        "### Inference\n",
        "Let's run the model! You can change the instruction and input - leave the output blank!\n",
        "\n",
        "**[NEW] Try 2x faster inference in a free Colab for Llama-3.1 8b Instruct [here](https://colab.research.google.com/drive/1T-YBVfnphoVc8E2E854qF3jdia2Ll2W2?usp=sharing)**"
      ]
    },
    {
      "cell_type": "code",
      "execution_count": null,
      "metadata": {
        "id": "UWg_bjy44qwv"
      },
      "outputs": [],
      "source": [
        "!pip install anthropic"
      ]
    },
    {
      "cell_type": "code",
      "execution_count": null,
      "metadata": {
        "id": "xt_x7R1W28bQ"
      },
      "outputs": [],
      "source": [
        "FastLanguageModel.for_inference(model)\n",
        "\n",
        "import anthropic\n",
        "from IPython.display import HTML\n",
        "import json\n",
        "from tqdm.notebook import tqdm\n",
        "import torch\n",
        "import pandas as pd\n",
        "from transformers import AutoModelForCausalLM, AutoTokenizer\n",
        "\n",
        "client = anthropic.Anthropic(api_key = anthropic_api_key)\n",
        "\n",
        "def generate_model_output(events, input, model, tokenizer, alpaca_prompt):\n",
        "    \"\"\"Generate a single output using the model\"\"\"\n",
        "    prompt = format_example(events, input, \"\")\n",
        "    inputs = tokenizer([prompt], return_tensors=\"pt\").to(\"cuda\")\n",
        "    prompt_length = inputs.input_ids.shape[1]\n",
        "    outputs = model.generate(**inputs, max_new_tokens=2048, temperature=0, use_cache=True, do_sample=False)\n",
        "    generated_text = tokenizer.decode(outputs[0][prompt_length:], skip_special_tokens=True)\n",
        "    return generated_text\n",
        "\n",
        "def get_score(model_output, assertions):\n",
        "    prompt = f\"\"\"Your task is to help me grade code test output.\n",
        "\n",
        "Here is the test output:\n",
        "\n",
        "```\n",
        "{model_output}\n",
        "```\n",
        "\n",
        "Now, help me score the test output using the following criteria:\n",
        "\n",
        "{assertions}\n",
        "\n",
        "Based on these criteria, give the test output a score between 0 and 5.\n",
        "\n",
        "- 0 means: test output doesn't meet any criteria\n",
        "- 5 means: test output meets all criteria\n",
        "- If the test output does not contain any of the text I said it \"must\" include, grade it 0.\n",
        "- First, perform a short, succinct analysis of how the test output meets the criteria.\n",
        "- On the last line of your response, write the grade as a single number. Nothing else.\n",
        "- **Always** end with a grade. The last line **must** be a number between 0 and 5.\"\"\"\n",
        "\n",
        "    response = client.messages.create(\n",
        "        model=\"claude-3-5-sonnet-20241022\",\n",
        "        max_tokens=1000,\n",
        "        temperature=0,\n",
        "        system=\"You are a helpful assistant that grades test output based on given criteria.\",\n",
        "        messages=[{\"role\": \"user\", \"content\": prompt}]\n",
        "    )\n",
        "\n",
        "    # Extract the last line and convert to float\n",
        "    last_line = response.content[-1].text.strip().split('\\n')[-1]\n",
        "    try:\n",
        "        return float(last_line), response.content[-1].text\n",
        "    except ValueError:\n",
        "        return 0, response.content[-1].text\n",
        "\n",
        "def process_dataset(dataset, model, tokenizer, alpaca_prompt):\n",
        "    results = []\n",
        "\n",
        "    for item in tqdm(dataset):\n",
        "        # Generate model output\n",
        "        model_output = generate_model_output(\n",
        "            item['events'],\n",
        "            item['input'],\n",
        "            model,\n",
        "            tokenizer,\n",
        "            alpaca_prompt\n",
        "        )\n",
        "\n",
        "        # Get score from Claude\n",
        "        score, full_response = get_score(model_output, item['assertions'])\n",
        "\n",
        "        # Store results\n",
        "        results.append({\n",
        "            'events': item['events'],\n",
        "            'input': item['input'],\n",
        "            'model_output': model_output,\n",
        "            'assertions': item['assertions'],\n",
        "            'score': score,\n",
        "            'full_response': full_response\n",
        "        })\n",
        "\n",
        "    # Convert results to DataFrame for display\n",
        "    return pd.DataFrame(results)\n",
        "\n",
        "\n",
        "results = process_dataset(eval_dataset, model, tokenizer, alpaca_prompt)\n"
      ]
    },
    {
      "cell_type": "code",
      "execution_count": null,
      "metadata": {
        "id": "UbeNUJ1PFN4n"
      },
      "outputs": [],
      "source": [
        "def display_results(df, threshold=4):\n",
        "    from IPython.display import display, Markdown\n",
        "\n",
        "    for idx, row in df.iterrows():\n",
        "        status = \"❌ FAILED\" if row['score'] < threshold else \"✅ PASSED\"\n",
        "        status_color = \"red\" if row['score'] < threshold else \"green\"\n",
        "\n",
        "        display(Markdown(f\"\"\"\n",
        "### Test Case {idx + 1} - <span style=\"color: {status_color}\">{status}</span> (Score: {row['score']})\n",
        "\n",
        "\n",
        "#### Model Output:\n",
        "```\n",
        "{row['model_output']}\n",
        "```\n",
        "\n",
        "#### Assertions:\n",
        "```\n",
        "{row['assertions']}\n",
        "```\n",
        "\n",
        "#### Evaluation:\n",
        "```\n",
        "{row['full_response']}\n",
        "```\n",
        "---\n",
        "\"\"\"))\n",
        "\n",
        "    # Summary statistics\n",
        "    total = len(df)\n",
        "    passed = sum(df['score'] >= threshold)\n",
        "    pass_rate = (passed / total) * 100\n",
        "\n",
        "    display(Markdown(f\"\"\"\n",
        "## Summary\n",
        "- Total Tests: {total}\n",
        "- Passed: {passed}\n",
        "- Failed: {total - passed}\n",
        "- Pass Rate: {pass_rate:.1f}%\n",
        "\"\"\"))\n",
        "\n",
        "display_results(results)"
      ]
    },
    {
      "cell_type": "code",
      "execution_count": null,
      "metadata": {
        "id": "iHjt_SMYsd3P"
      },
      "outputs": [],
      "source": [
        "model.push_to_hub_merged(\"zed-industries/zeta-sft\", tokenizer, save_method = \"merged_16bit\", token = hf_token)"
      ]
    }
  ],
  "metadata": {
    "accelerator": "GPU",
    "colab": {
      "gpuType": "A100",
      "machine_shape": "hm",
      "provenance": []
    },
    "kernelspec": {
      "display_name": "Python 3",
      "name": "python3"
    },
    "language_info": {
      "name": "python"
    }
  },
  "nbformat": 4,
  "nbformat_minor": 1
}
